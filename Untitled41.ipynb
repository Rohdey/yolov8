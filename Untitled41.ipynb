{
  "nbformat": 4,
  "nbformat_minor": 0,
  "metadata": {
    "colab": {
      "provenance": []
    },
    "kernelspec": {
      "name": "python3",
      "display_name": "Python 3"
    },
    "language_info": {
      "name": "python"
    }
  },
  "cells": [
    {
      "cell_type": "code",
      "execution_count": null,
      "metadata": {
        "id": "um2OJDdkh4fS"
      },
      "outputs": [],
      "source": [
        "import cv2\n",
        "from ultralytics import YOLO\n",
        "import os\n",
        "\n",
        "# Load a pretrained YOLOv8n model\n",
        "model = YOLO('yolov8x.pt')\n",
        "\n",
        "# Define path to video file\n",
        "source = '/content/football.mp4'\n",
        "\n",
        "# Define directory to save images\n",
        "save_dir = '/content/drive/MyDrive/frame'\n",
        "\n",
        "# Create the directory if it doesn't exist\n",
        "os.makedirs(save_dir, exist_ok=True)\n",
        "\n",
        "# Run inference on the source\n",
        "results = model(source, stream=True)  # generator of Results objects\n",
        "\n",
        "# Iterate through the results\n",
        "for frame_idx, frame_result in enumerate(results):\n",
        "    # Extract bounding boxes from the 'xyxy' format\n",
        "    boxes_xyxy = frame_result.boxes.xyxy.tolist()\n",
        "    classes = frame_result.boxes.cls.tolist()\n",
        "\n",
        "    # Iterate through the bounding boxes and classes\n",
        "    for box, cls in zip(boxes_xyxy, classes):\n",
        "        x1, y1, x2, y2 = map(int, box)\n",
        "        if cls == 0:  # Check if the detected class is person\n",
        "            # Crop the person from the frame\n",
        "            person_img = frame_result.orig_img[y1:y2, x1:x2]\n",
        "\n",
        "            # Save the cropped image\n",
        "            save_name = os.path.join(save_dir, f\"frame{frame_idx}_person.jpg\")\n",
        "            cv2.imwrite(save_name, person_img)\n"
      ]
    }
  ]
}